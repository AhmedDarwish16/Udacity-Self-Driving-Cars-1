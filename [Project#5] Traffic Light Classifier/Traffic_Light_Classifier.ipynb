{
 "cells": [
  {
   "cell_type": "markdown",
   "metadata": {},
   "source": [
    "# Traffic Light Classifier\n",
    "---\n",
    "\n",
    "In this project, you’ll use your knowledge of computer vision techniques to build a classifier for images of traffic lights! You'll be given a dataset of traffic light images in which one of three lights is illuminated: red, yellow, or green.\n",
    "\n",
    "In this notebook, you'll pre-process these images, extract features that will help us distinguish the different types of images, and use those features to classify the traffic light images into three classes: red, yellow, or green. The tasks will be broken down into a few sections:\n",
    "\n",
    "1. **Loading and visualizing the data**. \n",
    "      The first step in any classification task is to be familiar with your data; you'll need to load in the images of traffic lights and visualize them!\n",
    "\n",
    "2. **Pre-processing**. \n",
    "    The input images and output labels need to be standardized. This way, you can analyze all the input images using the same classification pipeline, and you know what output to expect when you eventually classify a *new* image.\n",
    "    \n",
    "3. **Feature extraction**. \n",
    "    Next, you'll extract some features from each image that will help distinguish and eventually classify these images.\n",
    "   \n",
    "4. **Classification and visualizing error**. \n",
    "    Finally, you'll write one function that uses your features to classify *any* traffic light image. This function will take in an image and output a label. You'll also be given code to determine the accuracy of your classification model.    \n",
    "    \n",
    "5. **Evaluate your model**.\n",
    "    To pass this project, your classifier must be >90% accurate and never classify any red lights as green; it's likely that you'll need to improve the accuracy of your classifier by changing existing features or adding new features. I'd also encourage you to try to get as close to 100% accuracy as possible!\n",
    "    \n",
    "Here are some sample images from the dataset (from left to right: red, green, and yellow traffic lights):\n",
    "<img src=\"images/all_lights.png\" width=\"50%\" height=\"50%\">\n"
   ]
  },
  {
   "cell_type": "markdown",
   "metadata": {},
   "source": [
    "---\n",
    "### *Here's what you need to know to complete the project:*\n",
    "\n",
    "Some template code has already been provided for you, but you'll need to implement additional code steps to successfully complete this project. Any code that is required to pass this project is marked with **'(IMPLEMENTATION)'** in the header. There are also a couple of questions about your thoughts as you work through this project, which are marked with **'(QUESTION)'** in the header. Make sure to answer all questions and to check your work against the [project rubric](https://review.udacity.com/#!/rubrics/1213/view) to make sure you complete the necessary classification steps!\n",
    "\n",
    "Your project submission will be evaluated based on the code implementations you provide, and on two main classification criteria.\n",
    "Your complete traffic light classifier should have:\n",
    "1. **Greater than 90% accuracy**\n",
    "2. ***Never* classify red lights as green**\n"
   ]
  },
  {
   "cell_type": "markdown",
   "metadata": {},
   "source": [
    "# 1. Loading and Visualizing the Traffic Light Dataset\n",
    "\n",
    "This traffic light dataset consists of 1484 number of color images in 3 categories - red, yellow, and green. As with most human-sourced data, the data is not evenly distributed among the types. There are:\n",
    "* 904 red traffic light images\n",
    "* 536 green traffic light images\n",
    "* 44 yellow traffic light images\n",
    "\n",
    "*Note: All images come from this [MIT self-driving car course](https://selfdrivingcars.mit.edu/) and are licensed under a [Creative Commons Attribution-ShareAlike 4.0 International License](https://creativecommons.org/licenses/by-sa/4.0/).*"
   ]
  },
  {
   "cell_type": "markdown",
   "metadata": {},
   "source": [
    "### Import resources\n",
    "\n",
    "Before you get started on the project code, import the libraries and resources that you'll need."
   ]
  },
  {
   "cell_type": "code",
   "execution_count": 98,
   "metadata": {},
   "outputs": [],
   "source": [
    "import cv2 # computer vision library\n",
    "import helpers # helper functions\n",
    "\n",
    "import random\n",
    "import numpy as np\n",
    "import matplotlib.pyplot as plt\n",
    "import matplotlib.image as mpimg # for loading in images\n",
    "\n",
    "%matplotlib inline"
   ]
  },
  {
   "cell_type": "markdown",
   "metadata": {},
   "source": [
    "## Training and Testing Data\n",
    "\n",
    "All 1484 of the traffic light images are separated into training and testing datasets. \n",
    "\n",
    "* 80% of these images are training images, for you to use as you create a classifier.\n",
    "* 20% are test images, which will be used to test the accuracy of your classifier.\n",
    "* All images are pictures of 3-light traffic lights with one light illuminated.\n",
    "\n",
    "## Define the image directories\n",
    "\n",
    "First, we set some variables to keep track of some where our images are stored:\n",
    "\n",
    "    IMAGE_DIR_TRAINING: the directory where our training image data is stored\n",
    "    IMAGE_DIR_TEST: the directory where our test image data is stored"
   ]
  },
  {
   "cell_type": "code",
   "execution_count": 99,
   "metadata": {},
   "outputs": [],
   "source": [
    "# Image data directories\n",
    "IMAGE_DIR_TRAINING = \"traffic_light_images/training/\"\n",
    "IMAGE_DIR_TEST = \"traffic_light_images/test/\""
   ]
  },
  {
   "cell_type": "markdown",
   "metadata": {},
   "source": [
    "## Load the datasets\n",
    "\n",
    "These first few lines of code will load the training traffic light images and store all of them in a variable, `IMAGE_LIST`. This list contains the images and their associated label (\"red\", \"yellow\", \"green\"). \n",
    "\n",
    "You are encouraged to take a look at the `load_dataset` function in the helpers.py file. This will give you a good idea about how lots of image files can be read in from a directory using the [glob library](https://pymotw.com/2/glob/). The `load_dataset` function takes in the name of an image directory and returns a list of images and their associated labels. \n",
    "\n",
    "For example, the first image-label pair in `IMAGE_LIST` can be accessed by index: \n",
    "``` IMAGE_LIST[0][:]```.\n"
   ]
  },
  {
   "cell_type": "code",
   "execution_count": 100,
   "metadata": {},
   "outputs": [],
   "source": [
    "# Using the load_dataset function in helpers.py\n",
    "# Load training data\n",
    "IMAGE_LIST = helpers.load_dataset(IMAGE_DIR_TRAINING)\n"
   ]
  },
  {
   "cell_type": "markdown",
   "metadata": {},
   "source": [
    "## Visualize the Data\n",
    "\n",
    "The first steps in analyzing any dataset are to 1. load the data and 2. look at the data. Seeing what it looks like will give you an idea of what to look for in the images, what kind of noise or inconsistencies you have to deal with, and so on. This will help you understand the image dataset, and **understanding a dataset is part of making predictions about the data**."
   ]
  },
  {
   "cell_type": "markdown",
   "metadata": {},
   "source": [
    "---\n",
    "### Visualize the input images\n",
    "\n",
    "Visualize and explore the image data! Write code to display an image in `IMAGE_LIST`:\n",
    "* Display the image\n",
    "* Print out the shape of the image \n",
    "* Print out its corresponding label\n",
    "\n",
    "See if you can display at least one of each type of traffic light image – red, green, and yellow — and look at their similarities and differences."
   ]
  },
  {
   "cell_type": "code",
   "execution_count": 101,
   "metadata": {},
   "outputs": [
    {
     "name": "stdout",
     "output_type": "stream",
     "text": [
      "(63, 28, 3)\n",
      "red\n"
     ]
    },
    {
     "data": {
      "text/plain": [
       "<matplotlib.image.AxesImage at 0x7f49135ed160>"
      ]
     },
     "execution_count": 101,
     "metadata": {},
     "output_type": "execute_result"
    },
    {
     "data": {
      "image/png": "[encoded data removed]",
      "text/plain": [
       "<matplotlib.figure.Figure at 0x7f4913350fd0>"
      ]
     },
     "metadata": {
      "needs_background": "light"
     },
     "output_type": "display_data"
    }
   ],
   "source": [
    "## TODO: Write code to display an image in IMAGE_LIST (try finding a yellow traffic light!)\n",
    "## TODO: Print out 1. The shape of the image and 2. The image's label\n",
    "image_index = 0\n",
    "# The first image in IMAGE_LIST is displayed below (without information about shape or label)\n",
    "selected_image = IMAGE_LIST[image_index][0]\n",
    "selected_label = IMAGE_LIST[image_index][1]\n",
    "#printing the shape and the label\n",
    "print(selected_image.shape)\n",
    "print(selected_label)\n",
    "plt.imshow(selected_image)"
   ]
  },
  {
   "cell_type": "code",
   "execution_count": 102,
   "metadata": {},
   "outputs": [
    {
     "name": "stdout",
     "output_type": "stream",
     "text": [
      "723\n",
      "724\n",
      "725\n",
      "726\n",
      "727\n",
      "728\n",
      "729\n",
      "730\n",
      "731\n",
      "732\n",
      "733\n",
      "734\n",
      "735\n",
      "736\n",
      "737\n",
      "738\n",
      "739\n",
      "740\n",
      "741\n",
      "742\n",
      "743\n",
      "744\n",
      "745\n",
      "746\n",
      "747\n",
      "748\n",
      "749\n",
      "750\n",
      "751\n",
      "752\n",
      "753\n",
      "754\n",
      "755\n",
      "756\n",
      "757\n",
      "(42, 23, 3)\n"
     ]
    },
    {
     "data": {
      "text/plain": [
       "<matplotlib.image.AxesImage at 0x7f49137a5b38>"
      ]
     },
     "execution_count": 102,
     "metadata": {},
     "output_type": "execute_result"
    },
    {
     "data": {
      "image/png": "[encoded data removed]",
      "text/plain": [
       "<matplotlib.figure.Figure at 0x7f4913792400>"
      ]
     },
     "metadata": {
      "needs_background": "light"
     },
     "output_type": "display_data"
    }
   ],
   "source": [
    "#in order to show the yellow image , we have to know the index of the image with yellow label\n",
    "for index in range(len(IMAGE_LIST)):\n",
    "    if IMAGE_LIST[index][1]=='yellow':\n",
    "        print (index)\n",
    "yellow_image = IMAGE_LIST[723][0]  \n",
    "print(yellow_image.shape)\n",
    "plt.imshow(yellow_image)"
   ]
  },
  {
   "cell_type": "markdown",
   "metadata": {},
   "source": [
    "# 2. Pre-process the Data\n",
    "\n",
    "After loading in each image, you have to standardize the input and output!\n",
    "\n",
    "### Input\n",
    "\n",
    "This means that every input image should be in the same format, of the same size, and so on. We'll be creating features by performing the same analysis on every picture, and for a classification task like this, it's important that **similar images create similar features**! \n",
    "\n",
    "### Output\n",
    "\n",
    "We also need the output to be a label that is easy to read and easy to compare with other labels. It is good practice to convert categorical data like \"red\" and \"green\" to numerical data.\n",
    "\n",
    "A very common classification output is a 1D list that is the length of the number of classes - three in the case of red, yellow, and green lights - with the values 0 or 1 indicating which class a certain image is. For example, since we have three classes (red, yellow, and green), we can make a list with the order: [red value, yellow value, green value]. In general, order does not matter, we choose the order [red value, yellow value, green value] in this case to reflect the position of each light in descending vertical order.\n",
    "\n",
    "A red light should have the  label: [1, 0, 0]. Yellow should be: [0, 1, 0]. Green should be: [0, 0, 1]. These labels are called **one-hot encoded labels**.\n",
    "\n",
    "*(Note: one-hot encoding will be especially important when you work with [machine learning algorithms](https://machinelearningmastery.com/how-to-one-hot-encode-sequence-data-in-python/)).*\n",
    "\n",
    "<img src=\"images/processing_steps.png\" width=\"80%\" height=\"80%\">\n"
   ]
  },
  {
   "cell_type": "markdown",
   "metadata": {},
   "source": [
    "---\n",
    "<a id='task2'></a>\n",
    "### (IMPLEMENTATION): Standardize the input images\n",
    "\n",
    "* Resize each image to the desired input size: 32x32px.\n",
    "* (Optional) You may choose to crop, shift, or rotate the images in this step as well.\n",
    "\n",
    "It's very common to have square input sizes that can be rotated (and remain the same size), and analyzed in smaller, square patches. It's also important to make all your images the same size so that they can be sent through the same pipeline of classification steps!"
   ]
  },
  {
   "cell_type": "code",
   "execution_count": 103,
   "metadata": {},
   "outputs": [],
   "source": [
    "# This function should take in an RGB image and return a new, standardized version\n",
    "def standardize_input(image):\n",
    "    \n",
    "    ## TODO: Resize image and pre-process so that all \"standard\" images are the same size  \n",
    "    standard_im = np.copy(image)\n",
    "    standard_im = cv2.resize(image,(32,32))\n",
    "    return standard_im\n",
    "\n",
    "    "
   ]
  },
  {
   "cell_type": "markdown",
   "metadata": {},
   "source": [
    "## Standardize the output\n",
    "\n",
    "With each loaded image, we also specify the expected output. For this, we use **one-hot encoding**.\n",
    "\n",
    "* One-hot encode the labels. To do this, create an array of zeros representing each class of traffic light (red, yellow, green), and set the index of the expected class number to 1. \n",
    "\n",
    "Since we have three classes (red, yellow, and green), we have imposed an order of: [red value, yellow value, green value]. To one-hot encode, say, a yellow light, we would first initialize an array to [0, 0, 0] and change the middle value (the yellow value) to 1: [0, 1, 0].\n"
   ]
  },
  {
   "cell_type": "markdown",
   "metadata": {},
   "source": [
    "---\n",
    "<a id='task3'></a>\n",
    "### (IMPLEMENTATION): Implement one-hot encoding"
   ]
  },
  {
   "cell_type": "code",
   "execution_count": 104,
   "metadata": {},
   "outputs": [
    {
     "data": {
      "text/plain": [
       "[0, 1, 0]"
      ]
     },
     "execution_count": 104,
     "metadata": {},
     "output_type": "execute_result"
    }
   ],
   "source": [
    "## TODO: One hot encode an image label\n",
    "## Given a label - \"red\", \"green\", or \"yellow\" - return a one-hot encoded label\n",
    "\n",
    "# Examples: \n",
    "# one_hot_encode(\"red\") should return: [1, 0, 0]\n",
    "# one_hot_encode(\"yellow\") should return: [0, 1, 0]\n",
    "# one_hot_encode(\"green\") should return: [0, 0, 1]\n",
    "\n",
    "def one_hot_encode(label):\n",
    "    \"\"\"\n",
    "    ## TODO: Create a one-hot encoded label that works for all classes of traffic lights\n",
    "    #one_hot_encoded = np.zeros((3,), dtype=int)\n",
    "    #one_hot_encoded = np.zeros(3)\n",
    "    if label =='red':\n",
    "        return [1,0,0]\n",
    "    elif label=='yellow':\n",
    "        return [0,1,0]\n",
    "    elif label=='green':\n",
    "        return [0,0,1]\n",
    "    \n",
    "    #return one_hot_encoded\n",
    "    \"\"\"\n",
    "    #Creating a dictionary with a key contains the colors and values which represent the one hot encoded number\n",
    "    standard_dict= {'red':[1,0,0],'yellow':[0,1,0],'green':[0,0,1]}\n",
    "    one_hot_number =standard_dict[label]\n",
    "    return one_hot_number\n",
    "#testing label representation one hot encode for yellow\n",
    "one_hot_encode(IMAGE_LIST[723][1])"
   ]
  },
  {
   "cell_type": "code",
   "execution_count": 105,
   "metadata": {},
   "outputs": [
    {
     "name": "stdout",
     "output_type": "stream",
     "text": [
      "[0 3 0]\n"
     ]
    }
   ],
   "source": [
    "x=np.zeros((3,), dtype=int)\n",
    "x[1]=3\n",
    "print(x)"
   ]
  },
  {
   "cell_type": "markdown",
   "metadata": {},
   "source": [
    "### Testing as you Code\n",
    "\n",
    "After programming a function like this, it's a good idea to test it, and see if it produces the expected output. **In general, it's good practice to test code in small, functional pieces, after you write it**. This way, you can make sure that your code is correct as you continue to build a classifier, and you can identify any errors early on so that they don't compound.\n",
    "\n",
    "All test code can be found in the file `test_functions.py`. You are encouraged to look through that code and add your own testing code if you find it useful!\n",
    "\n",
    "One test function you'll find is: `test_one_hot(self, one_hot_function)` which takes in one argument, a one_hot_encode function, and tests its functionality. If your one_hot_label code does not work as expected, this test will print ot an error message that will tell you a bit about why your code failed. Once your code works, this should print out TEST PASSED."
   ]
  },
  {
   "cell_type": "code",
   "execution_count": 106,
   "metadata": {},
   "outputs": [
    {
     "data": {
      "text/markdown": [
       "**<span style=\"color: green;\">TEST PASSED</span>**"
      ],
      "text/plain": [
       "<IPython.core.display.Markdown object>"
      ]
     },
     "metadata": {},
     "output_type": "display_data"
    }
   ],
   "source": [
    "# Importing the tests\n",
    "import test_functions\n",
    "tests = test_functions.Tests()\n",
    "\n",
    "# Test for one_hot_encode function\n",
    "tests.test_one_hot(one_hot_encode)\n"
   ]
  },
  {
   "cell_type": "markdown",
   "metadata": {},
   "source": [
    "## Construct a `STANDARDIZED_LIST` of input images and output labels.\n",
    "\n",
    "This function takes in a list of image-label pairs and outputs a **standardized** list of resized images and one-hot encoded labels.\n",
    "\n",
    "This uses the functions you defined above to standardize the input and output, so those functions must be complete for this standardization to work!\n"
   ]
  },
  {
   "cell_type": "code",
   "execution_count": 107,
   "metadata": {},
   "outputs": [],
   "source": [
    "def standardize(image_list):\n",
    "    \n",
    "    # Empty image data array\n",
    "    standard_list = []\n",
    "\n",
    "    # Iterate through all the image-label pairs\n",
    "    for item in image_list:\n",
    "        image = item[0]\n",
    "        label = item[1]\n",
    "\n",
    "        # Standardize the image\n",
    "        standardized_im = standardize_input(image)\n",
    "\n",
    "        # One-hot encode the label\n",
    "        one_hot_label = one_hot_encode(label)    \n",
    "\n",
    "        # Append the image, and it's one hot encoded label to the full, processed list of image data \n",
    "        standard_list.append((standardized_im, one_hot_label))\n",
    "        \n",
    "    return standard_list\n",
    "\n",
    "# Standardize all training images\n",
    "STANDARDIZED_LIST = standardize(IMAGE_LIST)"
   ]
  },
  {
   "cell_type": "markdown",
   "metadata": {},
   "source": [
    "## Visualize the standardized data\n",
    "\n",
    "Display a standardized image from STANDARDIZED_LIST and compare it with a non-standardized image from IMAGE_LIST. Note that their sizes and appearance are different!"
   ]
  },
  {
   "cell_type": "code",
   "execution_count": 108,
   "metadata": {},
   "outputs": [
    {
     "name": "stdout",
     "output_type": "stream",
     "text": [
      "Shape of Standardized image is : (32, 32, 3)\n",
      "Label of Standardized image is :[0, 1, 0]\n"
     ]
    },
    {
     "data": {
      "image/png": "[encoded data removed]",
      "text/plain": [
       "<matplotlib.figure.Figure at 0x7f49137b3710>"
      ]
     },
     "metadata": {
      "needs_background": "light"
     },
     "output_type": "display_data"
    }
   ],
   "source": [
    "## TODO: Display a standardized image and its label\n",
    "image_num = 723\n",
    "standardized_image = STANDARDIZED_LIST[image_num][0]\n",
    "standardized_label = STANDARDIZED_LIST[image_num][1]\n",
    "plt.imshow(standardized_image)\n",
    "print(\"Shape of Standardized image is : \" +str(standardized_image.shape))\n",
    "print(\"Label of Standardized image is :\" +str(standardized_label))"
   ]
  },
  {
   "cell_type": "code",
   "execution_count": 109,
   "metadata": {},
   "outputs": [
    {
     "name": "stdout",
     "output_type": "stream",
     "text": [
      "shape of non Standardized image is: (42, 23, 3)\n",
      "Label of non Standardized image is:yellow\n"
     ]
    },
    {
     "data": {
      "image/png": "[encoded data removed]",
      "text/plain": [
       "<matplotlib.figure.Figure at 0x7f4913769c18>"
      ]
     },
     "metadata": {
      "needs_background": "light"
     },
     "output_type": "display_data"
    }
   ],
   "source": [
    "# Display non standardized image and its label\n",
    "non_standardized_image = IMAGE_LIST[image_num][0]\n",
    "non_standardized_label = IMAGE_LIST[image_num][1]\n",
    "plt.imshow(non_standardized_image)\n",
    "print(\"shape of non Standardized image is: \" +str(non_standardized_image.shape))\n",
    "print (\"Label of non Standardized image is:\" +str(non_standardized_label))"
   ]
  },
  {
   "cell_type": "markdown",
   "metadata": {},
   "source": [
    "# 3. Feature Extraction\n",
    "\n",
    "You'll be using what you now about color spaces, shape analysis, and feature construction to create features that help distinguish and classify the three types of traffic light images.\n",
    "\n",
    "You'll be tasked with creating **one feature** at a minimum (with the option to create more). The required feature is **a brightness feature using HSV color space**:\n",
    "\n",
    "1. A brightness feature.\n",
    "    - Using HSV color space, create a feature that helps you identify the 3 different classes of traffic light.\n",
    "    - You'll be asked some questions about what methods you tried to locate this traffic light, so, as you progress through this notebook, always be thinking about your approach: what works and what doesn't?\n",
    "\n",
    "2. (Optional): Create more features! \n",
    "\n",
    "Any more features that you create are up to you and should improve the accuracy of your traffic light classification algorithm! One thing to note is that, to pass this project you must **never classify a red light as a green light** because this creates a serious safety risk for a self-driving car. To avoid this misclassification, you might consider adding another feature that specifically distinguishes between red and green lights.\n",
    "\n",
    "These features will be combined near the end of his notebook to form a complete classification algorithm."
   ]
  },
  {
   "cell_type": "markdown",
   "metadata": {},
   "source": [
    "## Creating a brightness feature \n",
    "\n",
    "There are a number of ways to create a brightness feature that will help you characterize images of traffic lights, and it will be up to you to decide on the best procedure to complete this step. You should visualize and test your code as you go.\n",
    "\n",
    "Pictured below is a sample pipeline for creating a brightness feature (from left to right: standardized image, HSV color-masked image, cropped image, brightness feature):\n",
    "\n",
    "<img src=\"images/feature_ext_steps.png\" width=\"70%\" height=\"70%\">\n"
   ]
  },
  {
   "cell_type": "markdown",
   "metadata": {},
   "source": [
    "## RGB to HSV conversion\n",
    "\n",
    "Below, a test image is converted from RGB to HSV colorspace and each component is displayed in an image."
   ]
  },
  {
   "cell_type": "code",
   "execution_count": 110,
   "metadata": {},
   "outputs": [
    {
     "name": "stdout",
     "output_type": "stream",
     "text": [
      "Label [red, yellow, green]: [1, 0, 0]\n"
     ]
    },
    {
     "data": {
      "text/plain": [
       "<matplotlib.image.AxesImage at 0x7f4913070668>"
      ]
     },
     "execution_count": 110,
     "metadata": {},
     "output_type": "execute_result"
    },
    {
     "data": {
      "image/png": "[encoded data removed]",
      "text/plain": [
       "<matplotlib.figure.Figure at 0x7f491348fef0>"
      ]
     },
     "metadata": {
      "needs_background": "light"
     },
     "output_type": "display_data"
    }
   ],
   "source": [
    "# Convert and image to HSV colorspace\n",
    "# Visualize the individual color channels\n",
    "\n",
    "image_num =110\n",
    "test_im = STANDARDIZED_LIST[image_num][0]\n",
    "test_label = STANDARDIZED_LIST[image_num][1]\n",
    "\n",
    "# Convert to HSV\n",
    "hsv = cv2.cvtColor(test_im, cv2.COLOR_RGB2HSV)\n",
    "\n",
    "# Print image label\n",
    "print('Label [red, yellow, green]: ' + str(test_label))\n",
    "\n",
    "# HSV channels\n",
    "h = hsv[:,:,0]\n",
    "s = hsv[:,:,1]\n",
    "v = hsv[:,:,2]\n",
    "\n",
    "# Plot the original image and the three channels\n",
    "f, (ax1, ax2, ax3, ax4) = plt.subplots(1, 4, figsize=(20,10))\n",
    "ax1.set_title('Standardized image')\n",
    "ax1.imshow(test_im)\n",
    "ax2.set_title('H channel')\n",
    "ax2.imshow(h, cmap='gray')\n",
    "ax3.set_title('S channel')\n",
    "ax3.imshow(s, cmap='gray')\n",
    "ax4.set_title('V channel')\n",
    "ax4.imshow(v, cmap='gray')\n"
   ]
  },
  {
   "cell_type": "code",
   "execution_count": 111,
   "metadata": {},
   "outputs": [
    {
     "data": {
      "text/plain": [
       "\"\\nimage = STANDARDIZED_LIST[1100][0]\\nhsv =cv2.cvtColor(image, cv2.COLOR_RGB2HSV)\\nh = hsv[:,:,0]\\nlower_green_hue =np.array([55])\\nupper_green_hue=np.array([70])\\nhue_mask = cv2.inRange(image,lower_green_hue,upper_green_hue)\\nhue_masked_image = np.copy(h)\\nhue_masked_image[hue_mask != 0]=[0]\\nhue_masked_image[hue_mask ==0] =[255]\\nplt.imshow(hue_masked_image,cmap='gray')\\n\""
      ]
     },
     "execution_count": 111,
     "metadata": {},
     "output_type": "execute_result"
    }
   ],
   "source": [
    "'''\n",
    "image = STANDARDIZED_LIST[1100][0]\n",
    "hsv =cv2.cvtColor(image, cv2.COLOR_RGB2HSV)\n",
    "h = hsv[:,:,0]\n",
    "lower_green_hue =np.array([55])\n",
    "upper_green_hue=np.array([70])\n",
    "hue_mask = cv2.inRange(image,lower_green_hue,upper_green_hue)\n",
    "hue_masked_image = np.copy(h)\n",
    "hue_masked_image[hue_mask != 0]=[0]\n",
    "hue_masked_image[hue_mask ==0] =[255]\n",
    "plt.imshow(hue_masked_image,cmap='gray')\n",
    "'''"
   ]
  },
  {
   "cell_type": "markdown",
   "metadata": {},
   "source": [
    "---\n",
    "<a id='task7'></a>\n",
    "### (IMPLEMENTATION): Create a brightness feature that uses HSV color space\n",
    "\n",
    "Write a function that takes in an RGB image and returns a 1D feature vector and/or single value that will help classify an image of a traffic light. The only requirement is that this function should apply an HSV colorspace transformation, the rest is up to you. \n",
    "\n",
    "From this feature, you should be able to estimate an image's label and classify it as either a red, green, or yellow traffic light. You may also define helper functions if they simplify your code."
   ]
  },
  {
   "cell_type": "code",
   "execution_count": 112,
   "metadata": {},
   "outputs": [],
   "source": [
    "#function to calculate average brightness\n",
    "def average_brightness(rgb_image):\n",
    "    \n",
    "    ## TODO: Convert image to HSV color space\n",
    "    hsv = cv2.cvtColor(rgb_image,cv2.COLOR_RGB2HSV)\n",
    "    #Add value of pixels in v channel\n",
    "    brightness_sum = np.sum(hsv[:,:,2])\n",
    "    #calculating the area of the image to get the average\n",
    "    area = 32*32\n",
    "    avg_brightness = brightness_sum/area\n",
    "    \n",
    "    ## TODO: Create and return a feature value and/or vector\n",
    "    \n",
    "    return avg_brightness"
   ]
  },
  {
   "cell_type": "code",
   "execution_count": 113,
   "metadata": {},
   "outputs": [
    {
     "name": "stdout",
     "output_type": "stream",
     "text": [
      "[33.4462890625, 21.53515625, 32.4609375]\n"
     ]
    }
   ],
   "source": [
    "## TODO: Create a brightness feature that takes in an RGB image and outputs a feature vector and/or value\n",
    "## This feature should use HSV colorspace values\n",
    "def create_feature(rgb_image):\n",
    "\n",
    "    ## TODO: Convert image to HSV color space\n",
    "    hsv=cv2.cvtColor(rgb_image,cv2.COLOR_RGB2HSV)\n",
    "    #Keeping the V value and discard other values\n",
    "    v=hsv[:,:,2]\n",
    "    #Defining three areas Red,Yellow,Green\n",
    "    red_area=v[3:12,6:25] #3:12,6:25\n",
    "    yellow_area=v[13:20,6:25] #13:20\n",
    "    green_area=v[20:30,6:25]  #20:30\n",
    "    #Calculating the average brightness for the three color areas\n",
    "    a = 32*32\n",
    "    red_average_brightness=np.sum(red_area)/a\n",
    "    yellow_average_brightness=np.sum(yellow_area)/a\n",
    "    green_average_brightness=np.sum(green_area)/a\n",
    "    \"\"\"\n",
    "    #Sorting the maximum value\n",
    "    red_max=np.max(red_average_brightness)\n",
    "    yellow_max=np.max(yellow_average_brightness)\n",
    "    green_max=np.max(green_average_brightness)\n",
    "    #Initializing an empty feature list\n",
    "    feature = []\n",
    "    feature.append(red_max)\n",
    "    feature.append(yellow_max)\n",
    "    feature.append(green_max)\n",
    "    \"\"\"\n",
    "    feature = []\n",
    "    feature.append(red_average_brightness)\n",
    "    feature.append(yellow_average_brightness)\n",
    "    feature.append(green_average_brightness)\n",
    "    \n",
    "    \n",
    "    \n",
    "    return feature\n",
    "feat = create_feature(STANDARDIZED_LIST[600][0])\n",
    "print(feat)"
   ]
  },
  {
   "cell_type": "code",
   "execution_count": 114,
   "metadata": {},
   "outputs": [
    {
     "name": "stdout",
     "output_type": "stream",
     "text": [
      "Image average is:201.974609375\n",
      "1187\n"
     ]
    },
    {
     "data": {
      "image/png": "[encoded data removed]",
      "text/plain": [
       "<matplotlib.figure.Figure at 0x7f491302c550>"
      ]
     },
     "metadata": {
      "needs_background": "light"
     },
     "output_type": "display_data"
    }
   ],
   "source": [
    "#testing average Brightness of Images\n",
    "image_num = 600\n",
    "test_im = STANDARDIZED_LIST[image_num][0]\n",
    "avg = average_brightness(test_im)\n",
    "print(\"Image average is:\"+str(avg))\n",
    "plt.imshow(test_im)\n",
    "print(len(STANDARDIZED_LIST))"
   ]
  },
  {
   "cell_type": "code",
   "execution_count": 115,
   "metadata": {},
   "outputs": [
    {
     "name": "stdout",
     "output_type": "stream",
     "text": [
      "175.814453125\n",
      "159.016601562\n",
      "190.135742188\n",
      "69.7119140625\n",
      "215.754882812\n",
      "172.345703125\n",
      "156.801757812\n",
      "197.912109375\n",
      "208.8671875\n",
      "197.266601562\n",
      "76.529296875\n",
      "205.954101562\n",
      "194.428710938\n",
      "142.251953125\n",
      "141.702148438\n",
      "198.50390625\n",
      "84.3701171875\n",
      "138.310546875\n",
      "223.768554688\n",
      "101.047851562\n",
      "174.640625\n",
      "105.340820312\n",
      "115.284179688\n",
      "92.482421875\n",
      "88.69140625\n",
      "127.809570312\n",
      "99.8583984375\n",
      "152.618164062\n",
      "153.962890625\n",
      "230.196289062\n",
      "141.875\n",
      "82.396484375\n",
      "114.97265625\n",
      "153.1015625\n",
      "190.452148438\n",
      "106.182617188\n",
      "196.662109375\n",
      "96.57421875\n",
      "98.904296875\n",
      "190.100585938\n",
      "186.54296875\n",
      "195.286132812\n",
      "84.1689453125\n",
      "139.54296875\n",
      "189.477539062\n",
      "109.725585938\n",
      "189.778320312\n",
      "188.84765625\n",
      "110.749023438\n",
      "197.495117188\n",
      "77.0458984375\n",
      "147.890625\n",
      "144.690429688\n",
      "100.7890625\n",
      "96.3134765625\n",
      "93.4443359375\n",
      "160.904296875\n",
      "73.2353515625\n",
      "77.51171875\n",
      "138.627929688\n",
      "82.7978515625\n",
      "218.306640625\n",
      "152.01953125\n",
      "140.884765625\n",
      "138.275390625\n",
      "156.487304688\n",
      "170.91015625\n",
      "192.454101562\n",
      "106.4296875\n",
      "202.560546875\n",
      "185.381835938\n",
      "213.860351562\n",
      "130.134765625\n",
      "182.534179688\n",
      "132.19921875\n",
      "110.967773438\n",
      "134.70703125\n",
      "122.266601562\n",
      "133.6328125\n",
      "99.712890625\n",
      "131.677734375\n",
      "114.889648438\n",
      "163.515625\n",
      "204.551757812\n",
      "156.3125\n",
      "116.96875\n",
      "144.379882812\n",
      "144.237304688\n",
      "184.415039062\n",
      "75.2275390625\n",
      "107.465820312\n",
      "177.849609375\n",
      "221.711914062\n",
      "188.672851562\n",
      "201.461914062\n",
      "144.513671875\n",
      "116.086914062\n",
      "174.690429688\n",
      "192.89453125\n",
      "102.798828125\n",
      "115.458007812\n",
      "202.5078125\n",
      "190.720703125\n",
      "173.796875\n",
      "176.77734375\n",
      "110.680664062\n",
      "72.9892578125\n",
      "147.706054688\n",
      "135.271484375\n",
      "201.751953125\n",
      "207.520507812\n",
      "74.8046875\n",
      "198.635742188\n",
      "158.1484375\n",
      "101.545898438\n",
      "108.01171875\n",
      "226.61328125\n",
      "149.951171875\n",
      "77.62890625\n",
      "148.958984375\n",
      "72.623046875\n",
      "138.930664062\n",
      "121.170898438\n",
      "89.119140625\n",
      "184.045898438\n",
      "111.861328125\n",
      "191.006835938\n",
      "142.502929688\n",
      "124.004882812\n",
      "179.057617188\n",
      "137.120117188\n",
      "168.413085938\n",
      "83.568359375\n",
      "150.250976562\n",
      "196.110351562\n",
      "214.834960938\n",
      "145.940429688\n",
      "193.053710938\n",
      "76.0654296875\n",
      "199.225585938\n",
      "135.396484375\n",
      "202.5\n",
      "187.514648438\n",
      "131.971679688\n",
      "158.99609375\n",
      "133.39453125\n",
      "217.641601562\n",
      "134.118164062\n",
      "139.921875\n",
      "167.161132812\n",
      "148.177734375\n",
      "131.129882812\n",
      "213.2578125\n",
      "152.345703125\n",
      "76.255859375\n",
      "191.411132812\n",
      "138.853515625\n",
      "159.556640625\n",
      "75.4296875\n",
      "113.532226562\n",
      "209.649414062\n",
      "189.727539062\n",
      "209.045898438\n",
      "93.583984375\n",
      "146.69140625\n",
      "158.828125\n",
      "112.354492188\n",
      "137.83203125\n",
      "175.287109375\n",
      "112.120117188\n",
      "76.3935546875\n",
      "87.0830078125\n",
      "218.166992188\n",
      "202.629882812\n",
      "156.9609375\n",
      "69.2099609375\n",
      "103.260742188\n",
      "121.46875\n",
      "135.79296875\n",
      "129.317382812\n",
      "193.65234375\n",
      "190.517578125\n",
      "150.784179688\n",
      "96.998046875\n",
      "73.7763671875\n",
      "167.4375\n",
      "159.908203125\n",
      "144.466796875\n",
      "75.2099609375\n",
      "211.934570312\n",
      "172.653320312\n",
      "157.2734375\n",
      "131.4921875\n",
      "149.119140625\n",
      "186.676757812\n",
      "122.778320312\n",
      "190.327148438\n",
      "74.76953125\n",
      "186.515625\n",
      "184.893554688\n",
      "153.541992188\n",
      "147.375\n",
      "172.7578125\n",
      "135.94140625\n",
      "92.8603515625\n",
      "193.01953125\n",
      "139.07421875\n",
      "77.8359375\n",
      "204.443359375\n",
      "161.578125\n",
      "208.518554688\n",
      "157.936523438\n",
      "178.40234375\n",
      "135.55859375\n",
      "77.0517578125\n",
      "188.794921875\n",
      "139.25390625\n",
      "89.71875\n",
      "109.790039062\n",
      "112.88671875\n",
      "94.701171875\n",
      "227.572265625\n",
      "134.133789062\n",
      "190.893554688\n",
      "129.822265625\n",
      "103.111328125\n",
      "134.08984375\n",
      "150.366210938\n",
      "147.095703125\n",
      "136.504882812\n",
      "180.206054688\n",
      "231.362304688\n",
      "148.626953125\n",
      "85.8349609375\n",
      "87.306640625\n",
      "146.434570312\n",
      "105.296875\n",
      "159.840820312\n",
      "156.749023438\n",
      "89.5859375\n",
      "182.231445312\n",
      "156.427734375\n",
      "114.350585938\n",
      "179.583984375\n",
      "136.412109375\n",
      "148.741210938\n",
      "218.108398438\n",
      "200.500976562\n",
      "105.364257812\n",
      "210.0859375\n",
      "201.8359375\n",
      "214.513671875\n",
      "148.940429688\n",
      "125.635742188\n",
      "132.732421875\n",
      "210.646484375\n",
      "172.009765625\n",
      "208.729492188\n",
      "198.62109375\n",
      "142.581054688\n",
      "131.245117188\n",
      "225.4609375\n",
      "212.571289062\n",
      "192.7421875\n",
      "200.90234375\n",
      "199.541992188\n",
      "110.318359375\n",
      "79.6162109375\n",
      "167.583984375\n",
      "193.842773438\n",
      "98.9130859375\n",
      "210.749023438\n",
      "134.259765625\n",
      "154.373046875\n",
      "110.635742188\n",
      "181.475585938\n",
      "220.8671875\n",
      "137.046875\n",
      "193.510742188\n",
      "154.05078125\n",
      "87.5\n",
      "228.235351562\n",
      "104.712890625\n",
      "129.028320312\n",
      "142.6015625\n",
      "188.6328125\n",
      "159.793945312\n",
      "143.3671875\n",
      "200.94921875\n",
      "83.2705078125\n",
      "149.21875\n",
      "132.06640625\n",
      "189.344726562\n",
      "137.306640625\n",
      "133.796875\n",
      "181.984375\n",
      "193.25\n",
      "147.33984375\n",
      "173.435546875\n",
      "73.341796875\n",
      "200.806640625\n",
      "217.040039062\n",
      "148.225585938\n",
      "187.889648438\n",
      "196.33203125\n",
      "144.7890625\n",
      "131.430664062\n",
      "135.6953125\n",
      "172.126953125\n",
      "161.404296875\n",
      "214.505859375\n",
      "185.237304688\n",
      "160.849609375\n",
      "143.284179688\n",
      "171.408203125\n",
      "141.651367188\n",
      "131.040039062\n",
      "100.499023438\n",
      "148.180664062\n",
      "141.008789062\n",
      "190.2578125\n",
      "176.07421875\n",
      "90.7236328125\n",
      "206.673828125\n",
      "154.802734375\n",
      "198.400390625\n",
      "105.227539062\n",
      "75.3203125\n",
      "174.188476562\n",
      "86.4111328125\n",
      "74.21484375\n",
      "130.506835938\n",
      "107.903320312\n",
      "190.9921875\n",
      "140.776367188\n",
      "194.15234375\n",
      "199.73046875\n",
      "198.66015625\n",
      "149.336914062\n",
      "76.29296875\n",
      "156.048828125\n",
      "194.864257812\n",
      "146.844726562\n",
      "183.572265625\n",
      "110.884765625\n",
      "78.7041015625\n",
      "195.991210938\n",
      "184.8828125\n",
      "104.994140625\n",
      "102.190429688\n",
      "228.26171875\n",
      "233.404296875\n",
      "82.9365234375\n",
      "206.844726562\n",
      "122.28515625\n",
      "128.560546875\n",
      "205.234375\n",
      "154.392578125\n",
      "175.27734375\n",
      "96.3564453125\n",
      "197.515625\n",
      "132.528320312\n",
      "124.163085938\n",
      "105.577148438\n",
      "151.813476562\n",
      "164.524414062\n",
      "201.194335938\n",
      "177.7578125\n",
      "207.904296875\n",
      "146.537109375\n",
      "119.7578125\n",
      "152.555664062\n",
      "198.866210938\n",
      "125.463867188\n",
      "198.985351562\n",
      "145.547851562\n",
      "184.00390625\n",
      "160.060546875\n",
      "94.337890625\n",
      "196.724609375\n",
      "152.25\n",
      "114.883789062\n",
      "148.8125\n",
      "90.830078125\n",
      "208.727539062\n",
      "200.232421875\n",
      "187.745117188\n",
      "88.2568359375\n",
      "103.080078125\n",
      "189.775390625\n",
      "131.479492188\n",
      "214.091796875\n",
      "205.623046875\n",
      "136.604492188\n",
      "110.536132812\n",
      "150.897460938\n",
      "162.852539062\n",
      "145.66015625\n",
      "104.615234375\n",
      "193.385742188\n",
      "195.819335938\n",
      "74.9755859375\n",
      "99.75390625\n",
      "77.5224609375\n",
      "131.600585938\n",
      "181.208007812\n",
      "136.950195312\n",
      "151.46875\n",
      "110.057617188\n",
      "138.8984375\n",
      "112.467773438\n",
      "96.927734375\n",
      "134.665039062\n",
      "152.463867188\n",
      "189.90234375\n",
      "208.677734375\n",
      "111.795898438\n",
      "99.7548828125\n",
      "138.053710938\n",
      "184.33203125\n",
      "106.76171875\n",
      "180.604492188\n",
      "74.556640625\n",
      "142.9765625\n",
      "201.271484375\n",
      "151.926757812\n",
      "196.106445312\n",
      "179.723632812\n",
      "172.693359375\n"
     ]
    }
   ],
   "source": [
    "#Displaying average value of brightness for Green Images\n",
    "for i in range(len(STANDARDIZED_LIST)):\n",
    "    if STANDARDIZED_LIST[i][1][2]==1: #[1 0 0] Here 1 has index of 0\n",
    "        print(average_brightness(STANDARDIZED_LIST[i][0]))"
   ]
  },
  {
   "cell_type": "markdown",
   "metadata": {
    "collapsed": true
   },
   "source": [
    "## (Optional) Create more features to help accurately label the traffic light images"
   ]
  },
  {
   "cell_type": "code",
   "execution_count": 116,
   "metadata": {},
   "outputs": [
    {
     "data": {
      "text/plain": [
       "\"\\ndef hsv_histogram(image):\\n    \\n    hsv = cv2.cvtColor(image, cv2.COLOR_RGB2HSV)\\n    h_hist =np.histogram(hsv[:,:,0],bins=32,range=(0,180))\\n    s_hist =np.histogram(hsv[:,:,1],bins=32,range=(0,256))\\n    v_hist =np.histogram(hsv[:,:,2],bins=32,range=(0,256))\\n    bin_edges = h_hist[1]\\n    bin_centers=(bin_edges[1:]+bin_edges[0:len(bin_edges)-1])/2\\n    fig = plt.figure(figsize=(12,3))\\n    plt.subplot(131)\\n    plt.bar(bin_centers,h_hist[0])\\n    plt.xlim(0, 180)\\n    plt.title('H Histogram')\\n    plt.subplot(132)\\n    plt.bar(bin_centers, s_hist[0])\\n    plt.xlim(0, 256)\\n    plt.title('S Histogram')\\n    plt.subplot(133)\\n    plt.bar(bin_centers, v_hist[0])\\n    plt.xlim(0, 256)\\n    plt.title('V Histogram')\\n    return h_hist, s_hist, v_hist\\n\\nrot_h_hist, rot_s_hist, rot_v_hist = hsv_histogram(test_im)\\n\""
      ]
     },
     "execution_count": 116,
     "metadata": {},
     "output_type": "execute_result"
    }
   ],
   "source": [
    "#Visualize a histogram data\n",
    "# i just wrote the same code from course example \n",
    "'''\n",
    "def hsv_histogram(image):\n",
    "    \n",
    "    hsv = cv2.cvtColor(image, cv2.COLOR_RGB2HSV)\n",
    "    h_hist =np.histogram(hsv[:,:,0],bins=32,range=(0,180))\n",
    "    s_hist =np.histogram(hsv[:,:,1],bins=32,range=(0,256))\n",
    "    v_hist =np.histogram(hsv[:,:,2],bins=32,range=(0,256))\n",
    "    bin_edges = h_hist[1]\n",
    "    bin_centers=(bin_edges[1:]+bin_edges[0:len(bin_edges)-1])/2\n",
    "    fig = plt.figure(figsize=(12,3))\n",
    "    plt.subplot(131)\n",
    "    plt.bar(bin_centers,h_hist[0])\n",
    "    plt.xlim(0, 180)\n",
    "    plt.title('H Histogram')\n",
    "    plt.subplot(132)\n",
    "    plt.bar(bin_centers, s_hist[0])\n",
    "    plt.xlim(0, 256)\n",
    "    plt.title('S Histogram')\n",
    "    plt.subplot(133)\n",
    "    plt.bar(bin_centers, v_hist[0])\n",
    "    plt.xlim(0, 256)\n",
    "    plt.title('V Histogram')\n",
    "    return h_hist, s_hist, v_hist\n",
    "\n",
    "rot_h_hist, rot_s_hist, rot_v_hist = hsv_histogram(test_im)\n",
    "'''"
   ]
  },
  {
   "cell_type": "markdown",
   "metadata": {},
   "source": [
    "## (QUESTION 1): How do the features you made help you distinguish between the 3 classes of traffic light images?"
   ]
  },
  {
   "cell_type": "markdown",
   "metadata": {},
   "source": [
    "**Answer:**\n",
    "i used the v channel from the HSV color space , and i used the location information of the three colors by dividing the traffic sign into three areas and calculating the average brightness in each color.\n",
    "i figured out that , the more i adjusted the area accurately , the more i get more accuracy result. and also setting some average brightness values in the one hot encoded function"
   ]
  },
  {
   "cell_type": "markdown",
   "metadata": {
    "collapsed": true
   },
   "source": [
    "# 4. Classification and Visualizing Error\n",
    "\n",
    "Using all of your features, write a function that takes in an RGB image and, using your extracted features, outputs whether a light is red, green or yellow as a one-hot encoded label. This classification function should be able to classify any image of a traffic light!\n",
    "\n",
    "You are encouraged to write any helper functions or visualization code that you may need, but for testing the accuracy, make sure that this `estimate_label` function returns a one-hot encoded label."
   ]
  },
  {
   "cell_type": "markdown",
   "metadata": {},
   "source": [
    "---\n",
    "<a id='task8'></a>\n",
    "### (IMPLEMENTATION): Build a complete classifier "
   ]
  },
  {
   "cell_type": "code",
   "execution_count": 117,
   "metadata": {},
   "outputs": [],
   "source": [
    "# This function should take in RGB image input\n",
    "# Analyze that image using your feature creation code and output a one-hot encoded label\n",
    "def estimate_label(rgb_image):\n",
    "    \n",
    "    ## TODO: Extract feature(s) from the RGB image and use those features to\n",
    "    ## classify the image and output a one-hot encoded label\n",
    "    feature = create_feature(rgb_image)\n",
    "    red_feat = feature[0]\n",
    "    yellow_feat = feature[1]\n",
    "    green_feat = feature[2] \n",
    "    #this condition is for some cases classified red as green \n",
    "    # comparing the average brightness for the three colors\n",
    "    if red_feat<green_feat and 26<yellow_feat<28:\n",
    "        return [1,0,0]\n",
    "    elif red_feat>green_feat:\n",
    "        return [1,0,0]\n",
    "        \n",
    "    elif red_feat<green_feat:\n",
    "        return [0,0,1]\n",
    "    \n",
    "    elif red_feat==green_feat:\n",
    "        return [0,1,0]\n",
    "    else:\n",
    "        return [0,1,0]"
   ]
  },
  {
   "cell_type": "markdown",
   "metadata": {},
   "source": [
    "## Testing the classifier\n",
    "\n",
    "Here is where we test your classification algorithm using our test set of data that we set aside at the beginning of the notebook! This project will be complete once you've pogrammed a \"good\" classifier.\n",
    "\n",
    "A \"good\" classifier in this case should meet the following criteria (and once it does, feel free to submit your project):\n",
    "1. Get above 90% classification accuracy.\n",
    "2. Never classify a red light as a green light. \n",
    "\n",
    "### Test dataset\n",
    "\n",
    "Below, we load in the test dataset, standardize it using the `standardize` function you defined above, and then **shuffle** it; this ensures that order will not play a role in testing accuracy.\n"
   ]
  },
  {
   "cell_type": "code",
   "execution_count": 118,
   "metadata": {},
   "outputs": [],
   "source": [
    "# Using the load_dataset function in helpers.py\n",
    "# Load test data\n",
    "TEST_IMAGE_LIST = helpers.load_dataset(IMAGE_DIR_TEST)\n",
    "\n",
    "# Standardize the test data\n",
    "STANDARDIZED_TEST_LIST = standardize(TEST_IMAGE_LIST)\n",
    "\n",
    "# Shuffle the standardized test data\n",
    "random.shuffle(STANDARDIZED_TEST_LIST)"
   ]
  },
  {
   "cell_type": "markdown",
   "metadata": {},
   "source": [
    "## Determine the Accuracy\n",
    "\n",
    "Compare the output of your classification algorithm (a.k.a. your \"model\") with the true labels and determine the accuracy.\n",
    "\n",
    "This code stores all the misclassified images, their predicted labels, and their true labels, in a list called `MISCLASSIFIED`. This code is used for testing and *should not be changed*."
   ]
  },
  {
   "cell_type": "code",
   "execution_count": 119,
   "metadata": {},
   "outputs": [
    {
     "name": "stdout",
     "output_type": "stream",
     "text": [
      "Accuracy: 0.9629629629629629\n",
      "Number of misclassified images = 11 out of 297\n"
     ]
    }
   ],
   "source": [
    "# Constructs a list of misclassified images given a list of test images and their labels\n",
    "# This will throw an AssertionError if labels are not standardized (one-hot encoded)\n",
    "\n",
    "def get_misclassified_images(test_images):\n",
    "    # Track misclassified images by placing them into a list\n",
    "    misclassified_images_labels = []\n",
    "\n",
    "    # Iterate through all the test images\n",
    "    # Classify each image and compare to the true label\n",
    "    for image in test_images:\n",
    "\n",
    "        # Get true data\n",
    "        im = image[0]\n",
    "        true_label = image[1]\n",
    "        assert(len(true_label) == 3), \"The true_label is not the expected length (3).\"\n",
    "\n",
    "        # Get predicted label from your classifier\n",
    "        predicted_label = estimate_label(im)\n",
    "        assert(len(predicted_label) == 3), \"The predicted_label is not the expected length (3).\"\n",
    "\n",
    "        # Compare true and predicted labels \n",
    "        if(predicted_label != true_label):\n",
    "            # If these labels are not equal, the image has been misclassified\n",
    "            misclassified_images_labels.append((im, predicted_label, true_label))\n",
    "            \n",
    "    # Return the list of misclassified [image, predicted_label, true_label] values\n",
    "    return misclassified_images_labels\n",
    "\n",
    "\n",
    "# Find all misclassified images in a given test set\n",
    "MISCLASSIFIED = get_misclassified_images(STANDARDIZED_TEST_LIST)\n",
    "\n",
    "# Accuracy calculations\n",
    "total = len(STANDARDIZED_TEST_LIST)\n",
    "num_correct = total - len(MISCLASSIFIED)\n",
    "accuracy = num_correct/total\n",
    "\n",
    "print('Accuracy: ' + str(accuracy))\n",
    "print(\"Number of misclassified images = \" + str(len(MISCLASSIFIED)) +' out of '+ str(total))\n"
   ]
  },
  {
   "cell_type": "markdown",
   "metadata": {},
   "source": [
    "---\n",
    "<a id='task9'></a>\n",
    "### Visualize the misclassified images\n",
    "\n",
    "Visualize some of the images you classified wrong (in the `MISCLASSIFIED` list) and note any qualities that make them difficult to classify. This will help you identify any weaknesses in your classification algorithm."
   ]
  },
  {
   "cell_type": "code",
   "execution_count": 120,
   "metadata": {},
   "outputs": [
    {
     "name": "stdout",
     "output_type": "stream",
     "text": [
      "False label is [1, 0, 0]\n",
      "True label is [0, 1, 0]\n"
     ]
    },
    {
     "data": {
      "image/png": "[encoded data removed]",
      "text/plain": [
       "<matplotlib.figure.Figure at 0x7f4912faab00>"
      ]
     },
     "metadata": {
      "needs_background": "light"
     },
     "output_type": "display_data"
    }
   ],
   "source": [
    "# Visualize misclassified example(s)\n",
    "## TODO: Display an image in the `MISCLASSIFIED` list \n",
    "## TODO: Print out its predicted label - to see what the image *was* incorrectly classified as\n",
    "mis_image=7\n",
    "misclassified_image = MISCLASSIFIED[mis_image][0]\n",
    "misclassified_label = MISCLASSIFIED[mis_image][1]\n",
    "true_label =MISCLASSIFIED[mis_image][2]\n",
    "plt.imshow(misclassified_image)\n",
    "print('False label is '+str(misclassified_label))\n",
    "print('True label is ' +str(true_label))"
   ]
  },
  {
   "cell_type": "markdown",
   "metadata": {},
   "source": [
    "---\n",
    "<a id='question2'></a>\n",
    "## (Question 2): After visualizing these misclassifications, what weaknesses do you think your classification algorithm has? Please note at least two."
   ]
  },
  {
   "cell_type": "markdown",
   "metadata": {},
   "source": [
    "**Answer:** \n",
    "1)i focused more on both green and red comparison as this was one of the main criteria but as shown it defined a yellow image as a green image , and some other cases green as red color\n",
    "2)My classification algorithm needs more feature improvements like adding masks for example."
   ]
  },
  {
   "cell_type": "markdown",
   "metadata": {},
   "source": [
    "## Test if you classify any red lights as green\n",
    "\n",
    "**To pass this project, you must not classify any red lights as green!** Classifying red lights as green would cause a car to drive through a red traffic light, so this red-as-green error is very dangerous in the real world. \n",
    "\n",
    "The code below lets you test to see if you've misclassified any red lights as green in the test set. **This test assumes that `MISCLASSIFIED` is a list of tuples with the order: [misclassified_image, predicted_label, true_label].**\n",
    "\n",
    "Note: this is not an all encompassing test, but its a good indicator that, if you pass, you are on the right track! This iterates through your list of misclassified examples and checks to see if any red traffic lights have been mistakenly labelled [0, 1, 0] (green)."
   ]
  },
  {
   "cell_type": "code",
   "execution_count": 121,
   "metadata": {},
   "outputs": [
    {
     "data": {
      "text/markdown": [
       "**<span style=\"color: green;\">TEST PASSED</span>**"
      ],
      "text/plain": [
       "<IPython.core.display.Markdown object>"
      ]
     },
     "metadata": {},
     "output_type": "display_data"
    }
   ],
   "source": [
    "# Importing the tests\n",
    "import test_functions\n",
    "tests = test_functions.Tests()\n",
    "\n",
    "if(len(MISCLASSIFIED) > 0):\n",
    "    # Test code for one_hot_encode function\n",
    "    tests.test_red_as_green(MISCLASSIFIED)\n",
    "else:\n",
    "    print(\"MISCLASSIFIED may not have been populated with images.\")\n"
   ]
  },
  {
   "cell_type": "markdown",
   "metadata": {},
   "source": [
    "# 5. Improve your algorithm!\n",
    "\n",
    "**Submit your project after you have completed all implementations, answered all questions, AND when you've met the two criteria:**\n",
    "1. Greater than 90% accuracy classification\n",
    "2. No red lights classified as green\n",
    "\n",
    "If you did not meet these requirements (which is common on the first attempt!), revisit your algorithm and tweak it to improve light recognition -- this could mean changing the brightness feature, performing some background subtraction, or adding another feature!\n",
    "\n",
    "---"
   ]
  },
  {
   "cell_type": "markdown",
   "metadata": {
    "collapsed": true
   },
   "source": [
    "### Going Further (Optional Challenges)\n",
    "\n",
    "If you found this challenge easy, I suggest you go above and beyond! Here are a couple **optional** (meaning you do not need to implement these to submit and pass the project) suggestions:\n",
    "* (Optional) Aim for >95% classification accuracy.\n",
    "* (Optional) Some lights are in the shape of arrows; further classify the lights as round or arrow-shaped.\n",
    "* (Optional) Add another feature and aim for as close to 100% accuracy as you can get!"
   ]
  },
  {
   "cell_type": "code",
   "execution_count": null,
   "metadata": {},
   "outputs": [],
   "source": []
  },
  {
   "cell_type": "code",
   "execution_count": null,
   "metadata": {},
   "outputs": [],
   "source": []
  }
 ],
 "metadata": {
  "anaconda-cloud": {},
  "kernelspec": {
   "display_name": "Python 3",
   "language": "python",
   "name": "python3"
  },
  "language_info": {
   "codemirror_mode": {
    "name": "ipython",
    "version": 3
   },
   "file_extension": ".py",
   "mimetype": "text/x-python",
   "name": "python",
   "nbconvert_exporter": "python",
   "pygments_lexer": "ipython3",
   "version": "3.6.3"
  }
 },
 "nbformat": 4,
 "nbformat_minor": 2
}
